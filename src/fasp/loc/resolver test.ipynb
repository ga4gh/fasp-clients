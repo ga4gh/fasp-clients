{
 "cells": [
  {
   "cell_type": "markdown",
   "id": "16c0f2b8",
   "metadata": {},
   "source": [
    "#### Using the DRSMetaResolver Client\n",
    "\n",
    "The MetaResolver will:\n",
    "* Resolve compact ids\n",
    "* Resolve host based DRS ids\n",
    "* Send DRS calls to the correct server\n",
    "* Handle id's prefixed with drs:// or not\n",
    "\n",
    " 🖐 Run the following examples and review how each kind of DRS id is handled\n",
    " \n",
    "#### Step 1: As in previous examples create a client\n",
    "The DRS Metaresolver appears like a DRS Client but will take prefix or host based DRS ids and send them to the DRS Server which can resolve them.\n",
    "\n"
   ]
  },
  {
   "cell_type": "code",
   "execution_count": 1,
   "id": "7dab844c",
   "metadata": {},
   "outputs": [],
   "source": [
    "import fasp.loc.resolver as res\n",
    "rslvr = res.resolver('drs://dg.4503:e747c529-a6ee-415f-90b8-e2db631f8ed9')"
   ]
  },
  {
   "cell_type": "code",
   "execution_count": 2,
   "id": "8d81459c",
   "metadata": {},
   "outputs": [
    {
     "data": {
      "text/plain": [
       "'https://gen3.biodatacatalyst.nhlbi.nih.gov/ga4gh/drs/v1/objects/'"
      ]
     },
     "execution_count": 2,
     "metadata": {},
     "output_type": "execute_result"
    }
   ],
   "source": [
    "rslvr.identifiers_resolution()"
   ]
  },
  {
   "cell_type": "markdown",
   "id": "678586cd",
   "metadata": {},
   "source": [
    "#### Step 3: Define a function to use the Metaresolver to send the DRS URI to the right server\n",
    "\n",
    "As we are going to work with multiple lists of DRS ids we'll define a function to send a list of ids to the Metaresolver.\n",
    "\n",
    "Click on the following cell to define the function.\n",
    "\n",
    " 🖐 Expert option: In the following function you may edit what is printed for each DRS response. Use the example above to see what attributes may be listed."
   ]
  },
  {
   "cell_type": "code",
   "execution_count": 6,
   "id": "ad460d97",
   "metadata": {},
   "outputs": [],
   "source": [
    "def check_list(id_list):\n",
    "    for drs_id in id_list:\n",
    "        print(f\"DRS URI {drs_id}\")\n",
    "        rslvr = res.resolver(drs_id)\n",
    "        print(rslvr.identifiers_resolution(refresh=True))\n",
    "        print('_'*80)"
   ]
  },
  {
   "cell_type": "markdown",
   "id": "4994363d",
   "metadata": {},
   "source": [
    "#### Step 4: Resolve compact (prefix based ids)\n",
    "The following is a list of DRS URIs with different prefixes"
   ]
  },
  {
   "cell_type": "code",
   "execution_count": 7,
   "id": "9d22c7d1",
   "metadata": {},
   "outputs": [
    {
     "name": "stdout",
     "output_type": "stream",
     "text": [
      "DRS URI drs://dg.4503:66eeec21-aad0-4a77-8de5-621f05e2d301\n",
      "we are caching the resolution to ./data/resolution_cache.json\n",
      "https://gen3.biodatacatalyst.nhlbi.nih.gov/ga4gh/drs/v1/objects/\n",
      "________________________________________________________________________________\n",
      "DRS URI drs://dg.4DFC:0e3c5237-6933-4d30-83f8-6ab721096bc7\n",
      "we are caching the resolution to ./data/resolution_cache.json\n",
      "https://nci-crdc.datacommons.io//ga4gh/drs/v1/objects/\n",
      "________________________________________________________________________________\n",
      "DRS URI drs://dg.ANV0:895c5a81-b985-4559-bc8e-cecece550756\n",
      "we are caching the resolution to ./data/resolution_cache.json\n",
      "https://gen3.theanvil.io/ga4gh/drs/v1/objects/\n",
      "________________________________________________________________________________\n",
      "DRS URI drs://dg.F82A1A:e6eecb29-1ae4-4f65-ae83-9ecf1c496de1\n",
      "we are caching the resolution to ./data/resolution_cache.json\n",
      "https://kidsfirstdrc.org/ga4gh/drs/v1/objects/\n",
      "________________________________________________________________________________\n",
      "DRS URI drs://dg.MD1R:f55b8fed-a938-4cd7-8f39-5ee3cb75c218\n",
      "we are caching the resolution to ./data/resolution_cache.json\n",
      "https://data.midrc.org//ga4gh/drs/v1/objects/\n",
      "________________________________________________________________________________\n"
     ]
    }
   ],
   "source": [
    "prefixedIDs = [\n",
    "            'drs://dg.4503:66eeec21-aad0-4a77-8de5-621f05e2d301',\n",
    "            'drs://dg.4DFC:0e3c5237-6933-4d30-83f8-6ab721096bc7',\n",
    "            'drs://dg.ANV0:895c5a81-b985-4559-bc8e-cecece550756',\n",
    "            'drs://dg.F82A1A:e6eecb29-1ae4-4f65-ae83-9ecf1c496de1',\n",
    "            'drs://dg.MD1R:f55b8fed-a938-4cd7-8f39-5ee3cb75c218',\n",
    "]\n",
    "\n",
    "check_list(prefixedIDs)"
   ]
  },
  {
   "cell_type": "code",
   "execution_count": null,
   "id": "cbb1dd1c",
   "metadata": {},
   "outputs": [],
   "source": []
  }
 ],
 "metadata": {
  "kernelspec": {
   "display_name": "Python 3 (ipykernel)",
   "language": "python",
   "name": "python3"
  },
  "language_info": {
   "codemirror_mode": {
    "name": "ipython",
    "version": 3
   },
   "file_extension": ".py",
   "mimetype": "text/x-python",
   "name": "python",
   "nbconvert_exporter": "python",
   "pygments_lexer": "ipython3",
   "version": "3.9.7"
  }
 },
 "nbformat": 4,
 "nbformat_minor": 5
}
